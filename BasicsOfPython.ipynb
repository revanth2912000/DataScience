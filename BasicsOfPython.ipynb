{
 "cells": [
  {
   "cell_type": "markdown",
   "metadata": {},
   "source": [
    "# Prime Numbers"
   ]
  },
  {
   "cell_type": "code",
   "execution_count": 2,
   "metadata": {},
   "outputs": [
    {
     "name": "stdout",
     "output_type": "stream",
     "text": [
      "9  is not a prime number\n"
     ]
    }
   ],
   "source": [
    "n = int(input(\"Enter a number: \"))\n",
    "for i in range(2, n):\n",
    "  if n % i == 0:\n",
    "    print(n,\" is not a prime number\")\n",
    "    break\n",
    "else:\n",
    "  print(n,\" is a prime number\")"
   ]
  },
  {
   "cell_type": "markdown",
   "metadata": {},
   "source": [
    "# Product of Random Numbers"
   ]
  },
  {
   "cell_type": "code",
   "execution_count": 4,
   "metadata": {},
   "outputs": [
    {
     "name": "stdout",
     "output_type": "stream",
     "text": [
      "product of  5  and  2  is  10\n"
     ]
    }
   ],
   "source": [
    "a=int(input(\"Enter the First number: \"))\n",
    "b=int(input(\"Enter the second number: \"))\n",
    "print(\"product of \",a,\" and \",b,\" is \",a*b)"
   ]
  },
  {
   "cell_type": "markdown",
   "metadata": {},
   "source": [
    "# Squares of even/odd numbers between 100 & 200"
   ]
  },
  {
   "cell_type": "code",
   "execution_count": 5,
   "metadata": {},
   "outputs": [
    {
     "name": "stdout",
     "output_type": "stream",
     "text": [
      "squares of even numbers between 100 and 200\n",
      "square of  100  is  10000\n",
      "square of  102  is  10404\n",
      "square of  104  is  10816\n",
      "square of  106  is  11236\n",
      "square of  108  is  11664\n",
      "square of  110  is  12100\n",
      "square of  112  is  12544\n",
      "square of  114  is  12996\n",
      "square of  116  is  13456\n",
      "square of  118  is  13924\n",
      "square of  120  is  14400\n",
      "square of  122  is  14884\n",
      "square of  124  is  15376\n",
      "square of  126  is  15876\n",
      "square of  128  is  16384\n",
      "square of  130  is  16900\n",
      "square of  132  is  17424\n",
      "square of  134  is  17956\n",
      "square of  136  is  18496\n",
      "square of  138  is  19044\n",
      "square of  140  is  19600\n",
      "square of  142  is  20164\n",
      "square of  144  is  20736\n",
      "square of  146  is  21316\n",
      "square of  148  is  21904\n",
      "square of  150  is  22500\n",
      "square of  152  is  23104\n",
      "square of  154  is  23716\n",
      "square of  156  is  24336\n",
      "square of  158  is  24964\n",
      "square of  160  is  25600\n",
      "square of  162  is  26244\n",
      "square of  164  is  26896\n",
      "square of  166  is  27556\n",
      "square of  168  is  28224\n",
      "square of  170  is  28900\n",
      "square of  172  is  29584\n",
      "square of  174  is  30276\n",
      "square of  176  is  30976\n",
      "square of  178  is  31684\n",
      "square of  180  is  32400\n",
      "square of  182  is  33124\n",
      "square of  184  is  33856\n",
      "square of  186  is  34596\n",
      "square of  188  is  35344\n",
      "square of  190  is  36100\n",
      "square of  192  is  36864\n",
      "square of  194  is  37636\n",
      "square of  196  is  38416\n",
      "square of  198  is  39204\n",
      "square of  200  is  40000\n",
      "squares of odd numbers between 100 and 200\n",
      "square of  101  is  10201\n",
      "square of  103  is  10609\n",
      "square of  105  is  11025\n",
      "square of  107  is  11449\n",
      "square of  109  is  11881\n",
      "square of  111  is  12321\n",
      "square of  113  is  12769\n",
      "square of  115  is  13225\n",
      "square of  117  is  13689\n",
      "square of  119  is  14161\n",
      "square of  121  is  14641\n",
      "square of  123  is  15129\n",
      "square of  125  is  15625\n",
      "square of  127  is  16129\n",
      "square of  129  is  16641\n",
      "square of  131  is  17161\n",
      "square of  133  is  17689\n",
      "square of  135  is  18225\n",
      "square of  137  is  18769\n",
      "square of  139  is  19321\n",
      "square of  141  is  19881\n",
      "square of  143  is  20449\n",
      "square of  145  is  21025\n",
      "square of  147  is  21609\n",
      "square of  149  is  22201\n",
      "square of  151  is  22801\n",
      "square of  153  is  23409\n",
      "square of  155  is  24025\n",
      "square of  157  is  24649\n",
      "square of  159  is  25281\n",
      "square of  161  is  25921\n",
      "square of  163  is  26569\n",
      "square of  165  is  27225\n",
      "square of  167  is  27889\n",
      "square of  169  is  28561\n",
      "square of  171  is  29241\n",
      "square of  173  is  29929\n",
      "square of  175  is  30625\n",
      "square of  177  is  31329\n",
      "square of  179  is  32041\n",
      "square of  181  is  32761\n",
      "square of  183  is  33489\n",
      "square of  185  is  34225\n",
      "square of  187  is  34969\n",
      "square of  189  is  35721\n",
      "square of  191  is  36481\n",
      "square of  193  is  37249\n",
      "square of  195  is  38025\n",
      "square of  197  is  38809\n",
      "square of  199  is  39601\n"
     ]
    }
   ],
   "source": [
    "print(\"squares of even numbers between 100 and 200\")\n",
    "for i in range(100,201):\n",
    "    if i%2==0:\n",
    "        print(\"square of \",i,\" is \",i**2)\n",
    "print(\"squares of odd numbers between 100 and 200\")\n",
    "for i in range(100,201):\n",
    "    if i%2!=0:\n",
    "        print(\"square of \",i,\" is \",i**2)\n",
    "    "
   ]
  },
  {
   "cell_type": "markdown",
   "metadata": {},
   "source": [
    "# Word Counter"
   ]
  },
  {
   "cell_type": "code",
   "execution_count": 6,
   "metadata": {},
   "outputs": [
    {
     "name": "stdout",
     "output_type": "stream",
     "text": [
      "'Enter': 2\n",
      "'a': 1\n",
      "'text:(Press': 1\n",
      "'to': 1\n",
      "'confirm)': 1\n"
     ]
    }
   ],
   "source": [
    "text = input(\"Enter a text: \")\n",
    "words = text.split()\n",
    "wordCount = {}\n",
    "for i in words:\n",
    "    if i in wordCount:\n",
    "        wordCount[i] += 1\n",
    "    else:\n",
    "        wordCount[i] = 1\n",
    "\n",
    "for i, count in wordCount.items():\n",
    "    print(f\"'{i}': {count}\")"
   ]
  },
  {
   "cell_type": "code",
   "execution_count": 9,
   "metadata": {},
   "outputs": [
    {
     "name": "stdout",
     "output_type": "stream",
     "text": [
      "abccba  is palindrome\n"
     ]
    }
   ],
   "source": [
    "a=input(\"Enter a string : \")\n",
    "l=len(a)\n",
    "b=\"\"\n",
    "for i in range(l):\n",
    "  b=b+a[l-i-1]\n",
    "print(a,\" is palindrome\")"
   ]
  }
 ],
 "metadata": {
  "kernelspec": {
   "display_name": "DSA",
   "language": "python",
   "name": "python3"
  },
  "language_info": {
   "codemirror_mode": {
    "name": "ipython",
    "version": 3
   },
   "file_extension": ".py",
   "mimetype": "text/x-python",
   "name": "python",
   "nbconvert_exporter": "python",
   "pygments_lexer": "ipython3",
   "version": "3.12.8"
  }
 },
 "nbformat": 4,
 "nbformat_minor": 2
}
