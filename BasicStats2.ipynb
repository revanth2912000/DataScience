{
 "cells": [
  {
   "cell_type": "code",
   "execution_count": 1,
   "metadata": {},
   "outputs": [],
   "source": [
    "import numpy as np\n",
    "import scipy.stats as stats"
   ]
  },
  {
   "cell_type": "code",
   "execution_count": 2,
   "metadata": {},
   "outputs": [],
   "source": [
    "data = np.array([1.13, 1.55, 1.43, 0.92, 1.25, 1.36, 1.32, 0.85, 1.07, 1.48, 1.20, 1.33, 1.18, 1.22, 1.29])\n",
    "n=len(data)\n",
    "mean = np.mean(data)\n",
    "sample_std = np.std(data)\n",
    "population_std = 0.2\n",
    "confidence_level_A = 0.99\n",
    "alpha_A = 1 - confidence_level_A\n",
    "df = n - 1"
   ]
  },
  {
   "cell_type": "markdown",
   "metadata": {},
   "source": [
    "# t-critical value for 99% confidence level and 14 degrees of freedom"
   ]
  },
  {
   "cell_type": "code",
   "execution_count": 3,
   "metadata": {},
   "outputs": [],
   "source": [
    "t_critical = stats.t.ppf(1 - alpha_A / 2, df)\n"
   ]
  },
  {
   "cell_type": "markdown",
   "metadata": {},
   "source": [
    "# Standard error (SE) for Task A"
   ]
  },
  {
   "cell_type": "code",
   "execution_count": 4,
   "metadata": {},
   "outputs": [],
   "source": [
    "SE_A = sample_std / np.sqrt(n)"
   ]
  },
  {
   "cell_type": "code",
   "execution_count": 5,
   "metadata": {},
   "outputs": [],
   "source": [
    "CI_A_lower = mean - t_critical * SE_A\n",
    "CI_A_upper = mean + t_critical * SE_A"
   ]
  },
  {
   "cell_type": "markdown",
   "metadata": {},
   "source": [
    "# Sample standard deviation"
   ]
  },
  {
   "cell_type": "code",
   "execution_count": 6,
   "metadata": {},
   "outputs": [
    {
     "name": "stdout",
     "output_type": "stream",
     "text": [
      "99% Confidence Interval: [1.095, 1.382]\n",
      "Mean: 1.239, Sample Std Dev: 0.187\n",
      "\n"
     ]
    }
   ],
   "source": [
    "print(f\"99% Confidence Interval: [{CI_A_lower:.3f}, {CI_A_upper:.3f}]\")\n",
    "print(f\"Mean: {mean:.3f}, Sample Std Dev: {sample_std:.3f}\\n\")"
   ]
  },
  {
   "cell_type": "markdown",
   "metadata": {},
   "source": [
    "# Confidence Interval using known population standard deviation (z-distribution)"
   ]
  },
  {
   "cell_type": "code",
   "execution_count": 7,
   "metadata": {},
   "outputs": [],
   "source": [
    "confidence_level_B = 0.99\n",
    "alpha_B = 1 - confidence_level_B\n",
    "z_critical = stats.norm.ppf(1 - alpha_B / 2)\n",
    "SE_B = population_std / np.sqrt(n)\n",
    "CI_B_lower = mean - z_critical * SE_B\n",
    "CI_B_upper = mean + z_critical\n"
   ]
  },
  {
   "cell_type": "code",
   "execution_count": 8,
   "metadata": {},
   "outputs": [
    {
     "name": "stdout",
     "output_type": "stream",
     "text": [
      "99% Confidence Interval: [1.106, 3.814]\n",
      "Mean: 1.239, Population Std Dev: 0.200\n"
     ]
    }
   ],
   "source": [
    "print(f\"99% Confidence Interval: [{CI_B_lower:.3f}, {CI_B_upper:.3f}]\")\n",
    "print(f\"Mean: {mean:.3f}, Population Std Dev: {population_std:.3f}\")"
   ]
  }
 ],
 "metadata": {
  "kernelspec": {
   "display_name": "DSA",
   "language": "python",
   "name": "python3"
  },
  "language_info": {
   "codemirror_mode": {
    "name": "ipython",
    "version": 3
   },
   "file_extension": ".py",
   "mimetype": "text/x-python",
   "name": "python",
   "nbconvert_exporter": "python",
   "pygments_lexer": "ipython3",
   "version": "3.12.7"
  }
 },
 "nbformat": 4,
 "nbformat_minor": 2
}
